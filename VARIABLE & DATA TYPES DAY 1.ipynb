{
 "cells": [
  {
   "cell_type": "code",
   "execution_count": 2,
   "id": "2757c377",
   "metadata": {},
   "outputs": [
    {
     "name": "stdout",
     "output_type": "stream",
     "text": [
      "100\n"
     ]
    }
   ],
   "source": [
    "# Create a variable savings\n",
    "# Print out savings\n",
    "\n",
    "savings = 100\n",
    "print(savings)"
   ]
  },
  {
   "cell_type": "code",
   "execution_count": 3,
   "id": "838c85e7",
   "metadata": {},
   "outputs": [
    {
     "name": "stdout",
     "output_type": "stream",
     "text": [
      "194.87171000000012\n"
     ]
    }
   ],
   "source": [
    "# Create a variable savings\n",
    "savings = 100\n",
    "\n",
    "# Create a variable growth_multiplier\n",
    "growth_multiplier = 1.1\n",
    "\n",
    "# Calculate result\n",
    "result = savings * growth_multiplier ** 7\n",
    "\n",
    "# Print out result\n",
    "print(result)"
   ]
  },
  {
   "cell_type": "code",
   "execution_count": 4,
   "id": "b0991d8a",
   "metadata": {},
   "outputs": [
    {
     "name": "stdout",
     "output_type": "stream",
     "text": [
      "<class 'float'>\n",
      "compound interestcompound interest\n"
     ]
    }
   ],
   "source": [
    "savings = 100\n",
    "growth_multiplier = 1.1\n",
    "desc = \"compound interest\"\n",
    "\n",
    "# Assign product of savings and growth_multiplier to year1\n",
    "year1 = savings * growth_multiplier\n",
    "\n",
    "# Print the type of year1\n",
    "print(type(year1))\n",
    "\n",
    "# Assign sum of desc and desc to doubledesc\n",
    "doubledesc = desc + desc\n",
    "\n",
    "\n",
    "# Print out doubledesc\n",
    "print(doubledesc)"
   ]
  },
  {
   "cell_type": "code",
   "execution_count": 8,
   "id": "1ad4b0c4",
   "metadata": {},
   "outputs": [
    {
     "name": "stdout",
     "output_type": "stream",
     "text": [
      "I started with $100 and now have $194.87171000000012. Awesome!\n"
     ]
    }
   ],
   "source": [
    "# Definition of savings and result\n",
    "savings = 100\n",
    "result = 100 * 1.10 ** 7\n",
    "\n",
    "# Fix the printout\n",
    "print(\"I started with $\" + str(savings) + \" and now have $\" + str(result) + \". Awesome!\")\n",
    "\n",
    "# Definition of pi_string\n",
    "pi_string = \"3.1415926\"\n",
    "\n",
    "# Convert pi_string into float: pi_float\n",
    "pi_float = float(pi_string)"
   ]
  },
  {
   "cell_type": "code",
   "execution_count": 9,
   "id": "87aa47cf",
   "metadata": {},
   "outputs": [
    {
     "name": "stdout",
     "output_type": "stream",
     "text": [
      "[11.25, 18.0, 20.0, 10.75, 9.5]\n"
     ]
    }
   ],
   "source": [
    "# area variables (in square meters)\n",
    "hall = 11.25\n",
    "kit = 18.0\n",
    "liv = 20.0\n",
    "bed = 10.75\n",
    "bath = 9.50\n",
    "\n",
    "# Create list areas\n",
    "areas = [hall,kit,liv,bed,bath]\n",
    "\n",
    "# Print areas\n",
    "print(areas)"
   ]
  },
  {
   "cell_type": "code",
   "execution_count": null,
   "id": "b790eacf",
   "metadata": {},
   "outputs": [],
   "source": []
  }
 ],
 "metadata": {
  "kernelspec": {
   "display_name": "Python 3 (ipykernel)",
   "language": "python",
   "name": "python3"
  },
  "language_info": {
   "codemirror_mode": {
    "name": "ipython",
    "version": 3
   },
   "file_extension": ".py",
   "mimetype": "text/x-python",
   "name": "python",
   "nbconvert_exporter": "python",
   "pygments_lexer": "ipython3",
   "version": "3.9.12"
  }
 },
 "nbformat": 4,
 "nbformat_minor": 5
}
